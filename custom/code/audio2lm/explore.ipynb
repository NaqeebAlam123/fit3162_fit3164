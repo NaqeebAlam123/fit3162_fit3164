{
 "cells": [
  {
   "cell_type": "code",
   "execution_count": 2,
   "metadata": {},
   "outputs": [],
   "source": [
    "import os\n",
    "import numpy as np\n",
    "import matplotlib.pyplot as plt\n",
    "%matplotlib inline\n",
    "import cv2\n",
    "import imutils\n",
    "import moviepy.video.io.ImageSequenceClip"
   ]
  },
  {
   "cell_type": "code",
   "execution_count": 2,
   "metadata": {},
   "outputs": [
    {
     "data": {
      "text/plain": [
       "True"
      ]
     },
     "execution_count": 2,
     "metadata": {},
     "output_type": "execute_result"
    }
   ],
   "source": [
    "curr_path = '../../data/landmark/landmark_68/M030/generated_landmarks'\n",
    "os.path.exists(curr_path)"
   ]
  },
  {
   "cell_type": "code",
   "execution_count": null,
   "metadata": {},
   "outputs": [],
   "source": [
    "for file in os.listdir(curr_path):\n",
    "    np_file = os.listdir(os.path.join(curr_path, file))[0]\n",
    "    _np = np.load(os.path.join(curr_path, file, np_file))\n",
    "    print(_np.shape)"
   ]
  },
  {
   "cell_type": "code",
   "execution_count": 22,
   "metadata": {},
   "outputs": [],
   "source": [
    "def draw_landmark(landmarks):\n",
    "    \n",
    "    # # generating black canvas\n",
    "    # my_img_3 = np.zeros((512, 512, 3), dtype = \"uint8\")\n",
    "    \n",
    "    # # resizing \n",
    "    # my_img_3=imutils.resize(my_img_3, width=500)\n",
    "\n",
    "    # display of coords for series of frame \n",
    "    for i in range(len(landmarks)):\n",
    "        landmark= landmarks[i]\n",
    "        # generating black canvas\n",
    "        my_img_3 = np.zeros((512, 512, 3), dtype = \"uint8\")\n",
    "        # resizing \n",
    "        my_img_3=imutils.resize(my_img_3, width=500)\n",
    "        # display for each frame\n",
    "        for j in range(0,landmark.shape[0],2):\n",
    "            cv2.circle(my_img_3, (landmark[j], landmark[j+1]), 1, (0, 0, 255), -1)\n",
    "        \n",
    "        # display set of coords (landmarks) for a particular frame\n",
    "        cv2.imshow(\"Image\"+str(i+1),my_img_3)\n",
    "    \n",
    "    cv2.waitKey(0)\n",
    "    cv2.destroyAllWindows()\n"
   ]
  },
  {
   "cell_type": "code",
   "execution_count": 23,
   "metadata": {},
   "outputs": [],
   "source": [
    "# Importing all necessary libraries\n",
    "import cv2\n",
    "\n",
    "# 1080 pixels - height, 500 pixels - width (dimension of a frame in a video)\n",
    "#video_path = '../../data/video/M030/'\n",
    "#print(curr_path)\n",
    "for file in os.listdir(curr_path):\n",
    "    \n",
    "    # emotion=file.split('_')[1]\n",
    "    # index=file.split('_')[3]\n",
    "    \n",
    "    # video_file_path=os.path.join(video_path, emotion, index + '.mp4')\n",
    "    # print(video_file_path)\n",
    "    # reading a video file\n",
    "    #lst=extracting_frames(video_path=video_file_path,number_of_frames=1)\n",
    "\n",
    "    landmark_path=os.path.join(curr_path,file,\"0.npy\")\n",
    "    landmarks=np.load(landmark_path)\n",
    "    \n",
    "    # drawing landmarks on a frame\n",
    "    # landmarks[0] = np.random.rand(*landmarks[0].shape)\n",
    "    #print(landmarks.shape)\n",
    "    draw_landmark(landmarks)\n",
    "    \n",
    "\n",
    "\n",
    "\n",
    "    break"
   ]
  },
  {
   "cell_type": "code",
   "execution_count": 10,
   "metadata": {},
   "outputs": [
    {
     "data": {
      "text/plain": [
       "'4.6.0'"
      ]
     },
     "execution_count": 10,
     "metadata": {},
     "output_type": "execute_result"
    }
   ],
   "source": [
    "cv2.__version__"
   ]
  },
  {
   "cell_type": "code",
   "execution_count": 3,
   "metadata": {},
   "outputs": [],
   "source": [
    "import torch"
   ]
  },
  {
   "cell_type": "code",
   "execution_count": 33,
   "metadata": {},
   "outputs": [
    {
     "data": {
      "text/plain": [
       "(91, 68, 2)"
      ]
     },
     "execution_count": 33,
     "metadata": {},
     "output_type": "execute_result"
    }
   ],
   "source": [
    "predicted_lmark = torch.load('../../predicted_lmark.pt')\n",
    "predicted_lmark.shape"
   ]
  },
  {
   "cell_type": "code",
   "execution_count": 36,
   "metadata": {},
   "outputs": [],
   "source": [
    "def draw_predicted_landmark(landmarks):\n",
    "     # store path for images\n",
    "    storepath='../../data/image_compilation/'\n",
    "\n",
    "    if not os.path.exists(storepath):\n",
    "        os.makedirs(storepath)\n",
    "    \n",
    "\n",
    "    # display of coords for series of frame \n",
    "    for i in range(landmarks.shape[0]):\n",
    "        landmark= landmarks[i]\n",
    "        # generating black canvas\n",
    "        my_img_3 = np.zeros((512, 512, 3), dtype = np.uint8)\n",
    "        my_img_3.fill(255)\n",
    "        \n",
    "        # resizing \n",
    "        my_img_3=imutils.resize(my_img_3, width=500)\n",
    "        \n",
    "        # display for each frame\n",
    "        for j in range(landmarks.shape[1]):\n",
    "            # print(type(landmarks[i,j,0]))\n",
    "            cv2.circle(my_img_3, (int(landmarks[i,j,0]), int(landmarks[i,j,1])), 1, (0, 0, 255), -1)\n",
    "        \n",
    "      \n",
    "        \n",
    "        # write image to  the particulat location\n",
    "        cv2.imwrite(storepath+'Image'+str(i)+\".jpg\", my_img_3)\n",
    "\n",
    "        # display set of coords (landmarks) for a particular frame\n",
    "        cv2.imshow(\"Image\"+str(i+1),my_img_3)\n",
    "\n",
    "        \n",
    "    \n",
    "    cv2.waitKey(0)\n",
    "    cv2.destroyAllWindows()"
   ]
  },
  {
   "cell_type": "code",
   "execution_count": 6,
   "metadata": {},
   "outputs": [
    {
     "data": {
      "text/plain": [
       "'/home/student/Downloads/MA_11/fit3162_fit3164/custom/code/audio2lm'"
      ]
     },
     "execution_count": 6,
     "metadata": {},
     "output_type": "execute_result"
    }
   ],
   "source": [
    "predicted_lmark[0,0,0]\n",
    "storepath='../../data/image_compilation/'\n",
    "\n",
    "if not os.path.exists(storepath):\n",
    "    os.makedirs(storepath)\n",
    "\n",
    "os.getcwd()"
   ]
  },
  {
   "cell_type": "code",
   "execution_count": 37,
   "metadata": {},
   "outputs": [],
   "source": [
    "draw_predicted_landmark(predicted_lmark)"
   ]
  },
  {
   "cell_type": "code",
   "execution_count": 9,
   "metadata": {},
   "outputs": [
    {
     "data": {
      "text/plain": [
       "'/home/student/Downloads/MA_11/fit3162_fit3164/custom/code/audio2lm'"
      ]
     },
     "execution_count": 9,
     "metadata": {},
     "output_type": "execute_result"
    }
   ],
   "source": [
    "os.getcwd()"
   ]
  },
  {
   "cell_type": "code",
   "execution_count": 25,
   "metadata": {},
   "outputs": [
    {
     "data": {
      "text/plain": [
       "91"
      ]
     },
     "execution_count": 25,
     "metadata": {},
     "output_type": "execute_result"
    }
   ],
   "source": [
    "import moviepy.video.io.ImageSequenceClip \n",
    "0\n",
    "image_folder='../../data/image_compilation/'\n",
    "fps=11\n",
    "\n",
    "image_files = [os.path.join(image_folder,img)\n",
    "               for img in os.listdir(image_folder)\n",
    "               if img.endswith(\".jpg\")]\n",
    "\n",
    "len(image_files)\n",
    "               "
   ]
  },
  {
   "cell_type": "code",
   "execution_count": 38,
   "metadata": {},
   "outputs": [
    {
     "name": "stdout",
     "output_type": "stream",
     "text": [
      "Moviepy - Building video ../../data/video_compilation/video_happy(1).mp4.\n",
      "Moviepy - Writing video ../../data/video_compilation/video_happy(1).mp4\n",
      "\n"
     ]
    },
    {
     "name": "stderr",
     "output_type": "stream",
     "text": [
      "                                                             \r"
     ]
    },
    {
     "name": "stdout",
     "output_type": "stream",
     "text": [
      "Moviepy - Done !\n",
      "Moviepy - video ready ../../data/video_compilation/video_happy(1).mp4\n"
     ]
    }
   ],
   "source": [
    "# code reference: https://stackoverflow.com/questions/44947505/how-to-make-a-movie-out-of-images-in-python\n",
    "\n",
    "import moviepy.video.io.ImageSequenceClip \n",
    "0\n",
    "image_folder='../../data/image_compilation/'\n",
    "fps=11\n",
    "\n",
    "image_files = [os.path.join(image_folder,img)\n",
    "               for img in os.listdir(image_folder)\n",
    "               if img.endswith(\".jpg\")]\n",
    "               \n",
    "clip = moviepy.video.io.ImageSequenceClip.ImageSequenceClip(image_files, fps=fps)\n",
    "\n",
    "store_video_path = '../video_compilation'\n",
    "if not os.path.exists(store_video_path):\n",
    "    os.makedirs(store_video_path)\n",
    "\n",
    "clip.write_videofile('../../data/video_compilation/video_happy(1).mp4')"
   ]
  },
  {
   "cell_type": "code",
   "execution_count": 39,
   "metadata": {},
   "outputs": [
    {
     "name": "stdout",
     "output_type": "stream",
     "text": [
      "0 : 3.669\n"
     ]
    }
   ],
   "source": [
    "# code reference: https://www.codespeedy.com/find-the-duration-of-a-wav-file-in-python/\n",
    "\n",
    "from pydub import AudioSegment\n",
    "\n",
    "audio_path=\"../../data/audio/M030_wav/neutral/001.wav\"\n",
    "\n",
    "#loading audio file form our system\n",
    "sound = AudioSegment.from_file(audio_path)\n",
    "\n",
    "\n",
    "#duration calculation function\n",
    "sound.duration_seconds == (len(sound) / 1000.0)\n",
    "#seconds to minutes conversion\n",
    "minutes_duartion = int(sound.duration_seconds // 60)\n",
    "seconds_duration = round((sound.duration_seconds % 60),3)\n",
    "print(minutes_duartion,':',seconds_duration)"
   ]
  },
  {
   "cell_type": "code",
   "execution_count": 40,
   "metadata": {},
   "outputs": [
    {
     "name": "stdout",
     "output_type": "stream",
     "text": [
      "Moviepy - Building video video_happy_with_audio(1).mp4.\n",
      "MoviePy - Writing audio in video_happy_with_audio(1)TEMP_MPY_wvf_snd.mp3\n"
     ]
    },
    {
     "name": "stderr",
     "output_type": "stream",
     "text": [
      "                                                       \r"
     ]
    },
    {
     "name": "stdout",
     "output_type": "stream",
     "text": [
      "MoviePy - Done.\n",
      "Moviepy - Writing video video_happy_with_audio(1).mp4\n",
      "\n"
     ]
    },
    {
     "name": "stderr",
     "output_type": "stream",
     "text": [
      "                                                   \r"
     ]
    },
    {
     "name": "stdout",
     "output_type": "stream",
     "text": [
      "Moviepy - Done !\n",
      "Moviepy - video ready video_happy_with_audio(1).mp4\n"
     ]
    }
   ],
   "source": [
    "# code reference: https://www.geeksforgeeks.org/moviepy-assigning-audio-clip-to-video-file/\n",
    "\n",
    "\n",
    "#setting audio file path\n",
    "audio_path=\"../../data/audio/M030_wav/neutral/001.wav\"\n",
    "\n",
    "# Import everything needed to edit video clips\n",
    "from moviepy.editor import *\n",
    "\n",
    "# video path\n",
    "video_path='../../data/video_compilation/video_happy(1).mp4'\n",
    "\n",
    "# loading video dsa gfg intro video\n",
    "clip = VideoFileClip(video_path)\n",
    "\n",
    "\n",
    "# getting only first 4 seconds\n",
    "clip = clip.subclip(0, 3.669)\n",
    "\n",
    "# loading audio file\n",
    "audioclip = AudioFileClip(audio_path).subclip(0, 3.669)\n",
    "\n",
    "# adding audio to the video clip\n",
    "videoclip = clip.set_audio(audioclip)\n",
    "\n",
    "video_audio_path = '../../data/video_with_audio_compilation'\n",
    "\n",
    "if not os.path.exists(video_audio_path):\n",
    "    os.makedirs(video_audio_path)\n",
    "\n",
    "os.chdir(video_audio_path)\n",
    "\n",
    "# saving video clip\n",
    "videoclip.write_videofile('video_happy_with_audio(1).mp4')\n",
    "\n",
    "\n",
    "\n",
    "#clip.write_videofile('video_sad.mp4')\n",
    "\n",
    "\n",
    "\n"
   ]
  }
 ],
 "metadata": {
  "kernelspec": {
   "display_name": "Python 3.9.14 ('venv3.9': venv)",
   "language": "python",
   "name": "python3"
  },
  "language_info": {
   "codemirror_mode": {
    "name": "ipython",
    "version": 3
   },
   "file_extension": ".py",
   "mimetype": "text/x-python",
   "name": "python",
   "nbconvert_exporter": "python",
   "pygments_lexer": "ipython3",
   "version": "3.9.14"
  },
  "orig_nbformat": 4,
  "vscode": {
   "interpreter": {
    "hash": "0aedffa738c86edca0294e5258fef7c4ec1c1b2d965154f432991abd2a8f79c5"
   }
  }
 },
 "nbformat": 4,
 "nbformat_minor": 2
}
