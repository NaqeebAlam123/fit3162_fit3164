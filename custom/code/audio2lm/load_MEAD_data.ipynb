{
 "cells": [
  {
   "cell_type": "code",
   "execution_count": 2,
   "metadata": {},
   "outputs": [],
   "source": [
    "from pathlib import Path\n",
    "import tarfile\n",
    "import shutil"
   ]
  },
  {
   "cell_type": "code",
   "execution_count": 3,
   "metadata": {},
   "outputs": [
    {
     "name": "stdout",
     "output_type": "stream",
     "text": [
      "/home/student/Downloads/MA_11/fit3162_fit3164/custom/code/audio2lm\n"
     ]
    }
   ],
   "source": [
    "!pwd"
   ]
  },
  {
   "cell_type": "code",
   "execution_count": 4,
   "metadata": {},
   "outputs": [
    {
     "name": "stdout",
     "output_type": "stream",
     "text": [
      "True\n",
      "True\n",
      "True\n"
     ]
    }
   ],
   "source": [
    "MEAD_dir = Path('../../MEAD/')\n",
    "video_data_dir = Path('../../data/video/')\n",
    "audio_data_dir = Path('../../data/audio/')\n",
    "print(MEAD_dir.exists())\n",
    "print(video_data_dir.exists())\n",
    "print(audio_data_dir.exists())"
   ]
  },
  {
   "cell_type": "code",
   "execution_count": 9,
   "metadata": {},
   "outputs": [
    {
     "ename": "ReadError",
     "evalue": "file could not be opened successfully",
     "output_type": "error",
     "traceback": [
      "\u001b[0;31m---------------------------------------------------------------------------\u001b[0m",
      "\u001b[0;31mReadError\u001b[0m                                 Traceback (most recent call last)",
      "Cell \u001b[0;32mIn [9], line 11\u001b[0m\n\u001b[1;32m      3\u001b[0m \u001b[38;5;66;03m# audio, video = list(map(\u001b[39;00m\n\u001b[1;32m      4\u001b[0m \u001b[38;5;66;03m#     lambda x: tarfile.open(x.resolve()),\u001b[39;00m\n\u001b[1;32m      5\u001b[0m \u001b[38;5;66;03m#     list(actor_dir.glob('*.tar'))\u001b[39;00m\n\u001b[1;32m      6\u001b[0m \u001b[38;5;66;03m# ))\u001b[39;00m\n\u001b[1;32m      7\u001b[0m \n\u001b[1;32m      8\u001b[0m \u001b[38;5;66;03m# video_data_dir.mkdir(actor_dir.name)\u001b[39;00m\n\u001b[1;32m     10\u001b[0m x \u001b[38;5;241m=\u001b[39m \u001b[38;5;28mlist\u001b[39m(actor_dir\u001b[38;5;241m.\u001b[39mglob(\u001b[38;5;124m'\u001b[39m\u001b[38;5;124m*.tar\u001b[39m\u001b[38;5;124m'\u001b[39m))[\u001b[38;5;241m1\u001b[39m]\n\u001b[0;32m---> 11\u001b[0m tarfile\u001b[38;5;241m.\u001b[39mopen(x\u001b[38;5;241m.\u001b[39mresolve())\n",
      "File \u001b[0;32m/usr/lib/python3.9/tarfile.py:1625\u001b[0m, in \u001b[0;36mTarFile.open\u001b[0;34m(cls, name, mode, fileobj, bufsize, **kwargs)\u001b[0m\n\u001b[1;32m   1623\u001b[0m                 fileobj\u001b[39m.\u001b[39mseek(saved_pos)\n\u001b[1;32m   1624\u001b[0m             \u001b[39mcontinue\u001b[39;00m\n\u001b[0;32m-> 1625\u001b[0m     \u001b[39mraise\u001b[39;00m ReadError(\u001b[39m\"\u001b[39m\u001b[39mfile could not be opened successfully\u001b[39m\u001b[39m\"\u001b[39m)\n\u001b[1;32m   1627\u001b[0m \u001b[39melif\u001b[39;00m \u001b[39m\"\u001b[39m\u001b[39m:\u001b[39m\u001b[39m\"\u001b[39m \u001b[39min\u001b[39;00m mode:\n\u001b[1;32m   1628\u001b[0m     filemode, comptype \u001b[39m=\u001b[39m mode\u001b[39m.\u001b[39msplit(\u001b[39m\"\u001b[39m\u001b[39m:\u001b[39m\u001b[39m\"\u001b[39m, \u001b[39m1\u001b[39m)\n",
      "\u001b[0;31mReadError\u001b[0m: file could not be opened successfully"
     ]
    }
   ],
   "source": [
    "actor_dir = Path('../../MEAD/M011')\n",
    "\n",
    "# audio, video = list(map(\n",
    "#     lambda x: tarfile.open(x.resolve()),\n",
    "#     list(actor_dir.glob('*.tar'))\n",
    "# ))\n",
    "\n",
    "# video_data_dir.mkdir(actor_dir.name)\n",
    "\n",
    "x = list(actor_dir.glob('*.tar'))[1]\n",
    "tarfile.open(x.resolve())"
   ]
  }
 ],
 "metadata": {
  "kernelspec": {
   "display_name": "Python 3.9.14 ('venv3.9': venv)",
   "language": "python",
   "name": "python3"
  },
  "language_info": {
   "codemirror_mode": {
    "name": "ipython",
    "version": 3
   },
   "file_extension": ".py",
   "mimetype": "text/x-python",
   "name": "python",
   "nbconvert_exporter": "python",
   "pygments_lexer": "ipython3",
   "version": "3.9.14"
  },
  "orig_nbformat": 4,
  "vscode": {
   "interpreter": {
    "hash": "0aedffa738c86edca0294e5258fef7c4ec1c1b2d965154f432991abd2a8f79c5"
   }
  }
 },
 "nbformat": 4,
 "nbformat_minor": 2
}
