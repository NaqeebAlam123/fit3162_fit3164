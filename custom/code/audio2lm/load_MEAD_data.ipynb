{
 "cells": [
  {
   "cell_type": "code",
   "execution_count": 10,
   "metadata": {},
   "outputs": [],
   "source": [
    "from pathlib import Path\n",
    "import tarfile\n",
    "import shutil"
   ]
  },
  {
   "cell_type": "code",
   "execution_count": null,
   "metadata": {},
   "outputs": [],
   "source": [
    "import os\n",
    "import shutil"
   ]
  },
  {
   "cell_type": "code",
   "execution_count": 26,
   "metadata": {},
   "outputs": [],
   "source": [
    "actor = 'M011'\n",
    "path = Path(f'../../data/video/{actor}')"
   ]
  },
  {
   "cell_type": "code",
   "execution_count": 29,
   "metadata": {},
   "outputs": [],
   "source": [
    "## NOTE: side effects, remove file\n",
    "\n",
    "# for emo_dir in path.iterdir():\n",
    "#     level_count = len(list(emo_dir.glob('level_*')))\n",
    "#     emo_dir_path = f'{emo_dir.resolve()}/'\n",
    "#     if level_count == 1:\n",
    "#         src = next(emo_dir.glob('level_*')).resolve()\n",
    "#         shutil.copytree(src=src, dst=emo_dir_path, dirs_exist_ok=True)\n",
    "#         shutil.rmtree(src)\n",
    "#     elif level_count > 1:\n",
    "#         shutil.copytree(src=f'{emo_dir_path}level_{level_count}/', dst=emo_dir_path, dirs_exist_ok=True)\n",
    "#         for cnt in range(level_count):\n",
    "#             shutil.rmtree(f'{emo_dir_path}level_{cnt+1}')"
   ]
  }
 ],
 "metadata": {
  "kernelspec": {
   "display_name": "Python 3.9.14 ('venv3.9': venv)",
   "language": "python",
   "name": "python3"
  },
  "language_info": {
   "codemirror_mode": {
    "name": "ipython",
    "version": 3
   },
   "file_extension": ".py",
   "mimetype": "text/x-python",
   "name": "python",
   "nbconvert_exporter": "python",
   "pygments_lexer": "ipython3",
   "version": "3.9.14"
  },
  "orig_nbformat": 4,
  "vscode": {
   "interpreter": {
    "hash": "0aedffa738c86edca0294e5258fef7c4ec1c1b2d965154f432991abd2a8f79c5"
   }
  }
 },
 "nbformat": 4,
 "nbformat_minor": 2
}
